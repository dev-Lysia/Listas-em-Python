{
 "cells": [
  {
   "cell_type": "markdown",
   "metadata": {},
   "source": [
    "# Listas em Python : "
   ]
  },
  {
   "cell_type": "markdown",
   "metadata": {},
   "source": [
    "## Criando uma lista:\n",
    "\n",
    "    Para criarmos uma lista usaremos o simbolo [] (colchetes). \n",
    "    Essa lista precisa ser armazenada em uma VARIÁVEL\n",
    "    Os itens de uma lista são separados pela virgula"
   ]
  },
  {
   "cell_type": "code",
   "execution_count": null,
   "metadata": {},
   "outputs": [],
   "source": [
    "lista_compras = ['banana','maça','laranja']\n",
    "\n",
    "print(lista_compras)"
   ]
  },
  {
   "cell_type": "markdown",
   "metadata": {},
   "source": [
    "## Acessando os dados de uma lista:\n",
    "\n",
    "    Cada item da lista possui uma posição. Por padrão, as posições não iniciam do 1(um) e sim do 0(ZERO)"
   ]
  },
  {
   "cell_type": "code",
   "execution_count": null,
   "metadata": {},
   "outputs": [],
   "source": [
    "print(lista_compras[1])"
   ]
  },
  {
   "cell_type": "code",
   "execution_count": null,
   "metadata": {},
   "outputs": [],
   "source": [
    "# adicionando itens\n",
    "lista_compras.append('beterraba')\n",
    "print(lista_compras)"
   ]
  },
  {
   "cell_type": "code",
   "execution_count": null,
   "metadata": {},
   "outputs": [],
   "source": [
    "lista_compras.insert(1,'Chocolate')\n",
    "print(lista_compras)"
   ]
  },
  {
   "cell_type": "code",
   "execution_count": null,
   "metadata": {},
   "outputs": [],
   "source": [
    "# apagando itens\n",
    "del lista_compras[4]\n",
    "print(lista_compras)"
   ]
  },
  {
   "cell_type": "raw",
   "metadata": {},
   "source": []
  },
  {
   "cell_type": "markdown",
   "metadata": {},
   "source": [
    "## Adicionando um item a lista:\n",
    "\n",
    "    Para adicionarmos um novo item a lista, usaremos métodos. Um método funciona como uma espécie de função.\n",
    "    2 métodos possíveis são:\n",
    "    -.insert()\n",
    "    -.append()\n",
    "        \n",
    "    No exemplo abaixo tentamos incluir o item 'carro' a nossa lista_compras.\n",
    "    \n",
    "## Deletando um item da lista:\n",
    "\n",
    "    Para excluirmos um item da lista podemos usar algumas opções:\n",
    "    - del\n",
    "    - .pop()\n",
    "    - .remove() "
   ]
  },
  {
   "cell_type": "code",
   "execution_count": null,
   "metadata": {},
   "outputs": [],
   "source": [
    "lista_compras.append('carro')\n",
    "print(lista_compras)"
   ]
  },
  {
   "cell_type": "code",
   "execution_count": null,
   "metadata": {},
   "outputs": [],
   "source": [
    "# tirar um item de uma lista para outra\n",
    "lista_sonhos = []\n",
    "\n",
    "sonho = lista_compras.pop(-1)\n",
    "print(sonho)\n",
    "\n",
    "lista_sonhos.append(sonho)\n",
    "print(lista_compras)\n",
    "print(lista_sonhos)"
   ]
  },
  {
   "cell_type": "code",
   "execution_count": null,
   "metadata": {},
   "outputs": [],
   "source": [
    "# criar uma lista de tarefas\n",
    "tarefas = []\n",
    "tarefa = input('Insira uma tarefa: ')\n",
    "tarefas.append(tarefa)\n"
   ]
  },
  {
   "cell_type": "code",
   "execution_count": null,
   "metadata": {},
   "outputs": [],
   "source": [
    "print(tarefas)"
   ]
  },
  {
   "cell_type": "code",
   "execution_count": 17,
   "metadata": {},
   "outputs": [
    {
     "name": "stdout",
     "output_type": "stream",
     "text": [
      "['ligar no g2', 'batata', 'bola', 'votao']\n"
     ]
    }
   ],
   "source": [
    "# colocando varias tarefas com o while\n",
    "while tarefa!='':\n",
    "    tarefa = input('Insira uma tarefa: ')\n",
    "    tarefas.append(tarefa)\n",
    "    \n",
    "print(tarefas[0:-1])"
   ]
  },
  {
   "cell_type": "code",
   "execution_count": 19,
   "metadata": {},
   "outputs": [],
   "source": [
    "# lista com numeros\n",
    "lojas = ['RJ','SP','MG']\n",
    "faturamento = [10000,20000,30000]\n",
    "\n"
   ]
  },
  {
   "cell_type": "code",
   "execution_count": 22,
   "metadata": {},
   "outputs": [
    {
     "name": "stdout",
     "output_type": "stream",
     "text": [
      "[('MG', 30000), ('RJ', 10000), ('SP', 20000)]\n"
     ]
    }
   ],
   "source": [
    "# relacionamento de listas com tuplas\n",
    "\n",
    "resultados = []\n",
    "\n",
    "for i in range(3):\n",
    "    tupla = (lojas[i-1],faturamento[i-1])\n",
    "    resultados.append(tupla)\n",
    "\n",
    "print(resultados)"
   ]
  }
 ],
 "metadata": {
  "kernelspec": {
   "display_name": "Python 3 (ipykernel)",
   "language": "python",
   "name": "python3"
  },
  "language_info": {
   "codemirror_mode": {
    "name": "ipython",
    "version": 3
   },
   "file_extension": ".py",
   "mimetype": "text/x-python",
   "name": "python",
   "nbconvert_exporter": "python",
   "pygments_lexer": "ipython3",
   "version": "3.9.7"
  }
 },
 "nbformat": 4,
 "nbformat_minor": 4
}
